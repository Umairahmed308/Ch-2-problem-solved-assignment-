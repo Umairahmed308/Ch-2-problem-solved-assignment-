{
 "cells": [
  {
   "cell_type": "code",
   "execution_count": 31,
   "metadata": {},
   "outputs": [
    {
     "name": "stdout",
     "output_type": "stream",
     "text": [
      "Its Me Umair Ahmad Malik.\n"
     ]
    }
   ],
   "source": [
    "#2.1: Simple Msg\n",
    "Simple_Msg = \"Its Me Umair Ahmad Malik.\"\n",
    "print(Simple_Msg)"
   ]
  },
  {
   "cell_type": "code",
   "execution_count": 32,
   "metadata": {},
   "outputs": [
    {
     "name": "stdout",
     "output_type": "stream",
     "text": [
      "I would like to learn  Python.\n",
      "It's really usefull!\n"
     ]
    }
   ],
   "source": [
    "#2.2:Message\n",
    "Msg = \"I would like to learn  Python.\"\n",
    "print(Msg)\n",
    "\n",
    "Msg = \"It's really usefull!\"\n",
    "print(Msg)"
   ]
  },
  {
   "cell_type": "code",
   "execution_count": 33,
   "metadata": {},
   "outputs": [
    {
     "name": "stdout",
     "output_type": "stream",
     "text": [
      "Hello Sir Hassan Malik, would you like to tell me about Research process?\n"
     ]
    }
   ],
   "source": [
    "# 2.3:personal Msg\n",
    "Sir = \"Sir Hassan Malik,\"\n",
    "print(\"Hello \" + Sir + \" would you like to tell me about Research process?\")\n"
   ]
  },
  {
   "cell_type": "code",
   "execution_count": 34,
   "metadata": {},
   "outputs": [
    {
     "name": "stdout",
     "output_type": "stream",
     "text": [
      "umair ahmad malik\n",
      "UMAIR AHMAD MALIK\n",
      "Umair Ahmad Malik\n"
     ]
    }
   ],
   "source": [
    "# 2.4 Name Cases:\n",
    "\n",
    "Name = \"Umair Ahmad Malik\"\n",
    "print(Name.lower())\n",
    "print(Name.upper())\n",
    "print(Name.title())\n"
   ]
  },
  {
   "cell_type": "code",
   "execution_count": 35,
   "metadata": {},
   "outputs": [
    {
     "name": "stdout",
     "output_type": "stream",
     "text": [
      "Julius caesar once said, \"i came,i saw,i conquered\n",
      "Try always something new\n"
     ]
    }
   ],
   "source": [
    "#2.5 Famous Quote 1:\n",
    "print('Julius caesar once said, \"i came,i saw,i conquered')\n",
    "print('Try always something new')"
   ]
  },
  {
   "cell_type": "code",
   "execution_count": 36,
   "metadata": {},
   "outputs": [
    {
     "name": "stdout",
     "output_type": "stream",
     "text": [
      "Nicolas Chamfort Once said , A day without laughter is a day wasted .\n"
     ]
    }
   ],
   "source": [
    "#2.6 Famous Quote 2:\n",
    "\n",
    "Famous_person = \"Nicolas Chamfort\"\n",
    "Famous_quote = \"A day without laughter is a day wasted .\"\n",
    "print(Famous_person + \" Once said , \" + Famous_quote)"
   ]
  },
  {
   "cell_type": "code",
   "execution_count": 37,
   "metadata": {},
   "outputs": [
    {
     "name": "stdout",
     "output_type": "stream",
     "text": [
      "Unmodified:\n",
      "\tUmair Ahmad\n",
      "\n",
      "\n",
      "Using lstrip():\n",
      "Umair Ahmad\n",
      "\n",
      "\n",
      "Using rstrip():\n",
      "\tUmair Ahmad\n",
      "\n",
      "Using strip():\n",
      "Umair Ahmad\n"
     ]
    }
   ],
   "source": [
    "#2.7 Stripping Names:\n",
    "name = \"\\tUmair Ahmad\\n\"\n",
    "\n",
    "print(\"Unmodified:\")\n",
    "print(name)\n",
    "\n",
    "print(\"\\nUsing lstrip():\")\n",
    "print(name.lstrip())\n",
    "\n",
    "print(\"\\nUsing rstrip():\")\n",
    "print(name.rstrip())\n",
    "\n",
    "print(\"\\nUsing strip():\")\n",
    "print(name.strip())"
   ]
  },
  {
   "cell_type": "code",
   "execution_count": 38,
   "metadata": {},
   "outputs": [
    {
     "name": "stdout",
     "output_type": "stream",
     "text": [
      "5\n",
      "6\n",
      "6\n",
      "11.0\n"
     ]
    }
   ],
   "source": [
    "#2.8 NUMBER :\n",
    "print(3+2)\n",
    "print(9-3)\n",
    "print(3*2)\n",
    "print(22/2)"
   ]
  },
  {
   "cell_type": "code",
   "execution_count": 39,
   "metadata": {},
   "outputs": [
    {
     "name": "stdout",
     "output_type": "stream",
     "text": [
      "My favorite number is 22.\n"
     ]
    }
   ],
   "source": [
    "#2.9 Favourite Number:\n",
    "fav_num = 22\n",
    "msg = f\"My favorite number is {fav_num}.\"\n",
    "\n",
    "print(msg)"
   ]
  },
  {
   "cell_type": "code",
   "execution_count": 40,
   "metadata": {},
   "outputs": [
    {
     "name": "stdout",
     "output_type": "stream",
     "text": [
      "5\n",
      "6\n",
      "6\n",
      "11.0\n",
      "My favorite number is 22\n"
     ]
    }
   ],
   "source": [
    "# 2.10 Adding Commens with all:\n",
    "\n",
    "print(3+2)      # addition\n",
    "print(9-3)      # subtraction\n",
    "print(3*2)      # multiplication\n",
    "print(22/2)     # division\n",
    "\n",
    "favorite_number = 22\n",
    "print(\"My favorite number is \" + str(favorite_number))\n",
    "# in the above line I take an integer into a string ."
   ]
  },
  {
   "cell_type": "code",
   "execution_count": 41,
   "metadata": {},
   "outputs": [],
   "source": [
    "# 2-11 Zen of Python:\n",
    "\n",
    "import this"
   ]
  }
 ],
 "metadata": {
  "interpreter": {
   "hash": "b4837c79ec97981b1a1eddb7dec85746325c04074baf6ee03cc64dc705ec3d47"
  },
  "kernelspec": {
   "display_name": "Python 3.10.4 64-bit",
   "language": "python",
   "name": "python3"
  },
  "language_info": {
   "codemirror_mode": {
    "name": "ipython",
    "version": 3
   },
   "file_extension": ".py",
   "mimetype": "text/x-python",
   "name": "python",
   "nbconvert_exporter": "python",
   "pygments_lexer": "ipython3",
   "version": "3.10.4"
  },
  "orig_nbformat": 4
 },
 "nbformat": 4,
 "nbformat_minor": 2
}
